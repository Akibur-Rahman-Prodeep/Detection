{
  "nbformat": 4,
  "nbformat_minor": 0,
  "metadata": {
    "colab": {
      "name": "detecing",
      "provenance": [],
      "collapsed_sections": []
    },
    "kernelspec": {
      "name": "python3",
      "display_name": "Python 3"
    },
    "language_info": {
      "name": "python"
    },
    "accelerator": "GPU"
  },
  "cells": [
    {
      "cell_type": "code",
      "metadata": {
        "id": "xZSE0-snobR4"
      },
      "source": [
        "import tensorflow as tf \n",
        "from tensorflow.keras.models import Sequential\n",
        "from tensorflow.keras.layers import Dense, Dropout, Activation, Flatten, Conv2D, MaxPooling2D\n",
        "import pickle\n",
        "from keras.models import model_from_json\n",
        "from keras.models import load_model\n",
        "import matplotlib.pyplot as plt"
      ],
      "execution_count": 1,
      "outputs": []
    },
    {
      "cell_type": "code",
      "metadata": {
        "id": "3GUc6zlUlE2v"
      },
      "source": [
        "IMAGE_SHAPE = (224, 224)"
      ],
      "execution_count": 2,
      "outputs": []
    },
    {
      "cell_type": "code",
      "metadata": {
        "id": "NyKeK8LilGUf"
      },
      "source": [
        "import tensorflow as tf"
      ],
      "execution_count": null,
      "outputs": []
    },
    {
      "cell_type": "code",
      "metadata": {
        "id": "N8qLQMfZfEnJ",
        "colab": {
          "base_uri": "https://localhost:8080/"
        },
        "outputId": "f0539c96-c269-42ef-dacb-37a973524f3e"
      },
      "source": [
        "from google.colab import drive\n",
        "drive.mount('/content/drive/')"
      ],
      "execution_count": null,
      "outputs": [
        {
          "output_type": "stream",
          "name": "stdout",
          "text": [
            "Mounted at /content/drive/\n"
          ]
        }
      ]
    },
    {
      "cell_type": "code",
      "metadata": {
        "id": "HKaITS1nlIFo"
      },
      "source": [
        "data_root=(\"/content/drive/MyDrive/plantpaper/dataset/Apple\")"
      ],
      "execution_count": null,
      "outputs": []
    },
    {
      "cell_type": "code",
      "metadata": {
        "id": "kw612FWumSF3"
      },
      "source": [
        "TRAINING_DATA_DIR = str(data_root)"
      ],
      "execution_count": null,
      "outputs": []
    },
    {
      "cell_type": "code",
      "metadata": {
        "id": "L3A0jiYem--H"
      },
      "source": [
        "datagen_kwargs = dict(rescale=1./255, validation_split=.20)"
      ],
      "execution_count": null,
      "outputs": []
    },
    {
      "cell_type": "code",
      "metadata": {
        "colab": {
          "base_uri": "https://localhost:8080/"
        },
        "id": "9XGH3kZgnAxO",
        "outputId": "ff29bf14-ece2-4330-86c6-59a302e65907"
      },
      "source": [
        "valid_datagen = tf.keras.preprocessing.image.ImageDataGenerator(**datagen_kwargs)\n",
        "\n",
        "valid_generator = valid_datagen.flow_from_directory(TRAINING_DATA_DIR, subset= 'validation', shuffle=True, target_size=IMAGE_SHAPE)\n",
        "\n",
        "train_datagen = tf.keras.preprocessing.image.ImageDataGenerator(**datagen_kwargs)\n",
        "\n",
        "train_generator = train_datagen.flow_from_directory(TRAINING_DATA_DIR,subset='training',shuffle=True,target_size=IMAGE_SHAPE)\n",
        "    "
      ],
      "execution_count": null,
      "outputs": [
        {
          "output_type": "stream",
          "name": "stdout",
          "text": [
            "Found 1553 images belonging to 4 classes.\n",
            "Found 6218 images belonging to 4 classes.\n"
          ]
        }
      ]
    },
    {
      "cell_type": "code",
      "metadata": {
        "colab": {
          "base_uri": "https://localhost:8080/"
        },
        "id": "9pz_qSXBnDtn",
        "outputId": "c0b0da9b-e338-48d0-af43-c1a7e92415b1"
      },
      "source": [
        "for image_batch, label_batch in train_generator:\n",
        "    break\n",
        "image_batch.shape, label_batch.shape"
      ],
      "execution_count": null,
      "outputs": [
        {
          "output_type": "execute_result",
          "data": {
            "text/plain": [
              "((32, 224, 224, 3), (32, 4))"
            ]
          },
          "metadata": {},
          "execution_count": 9
        }
      ]
    },
    {
      "cell_type": "code",
      "metadata": {
        "colab": {
          "base_uri": "https://localhost:8080/"
        },
        "id": "PBMjrh4vnZHW",
        "outputId": "e0d2ebe8-81f1-4f6e-a586-e2649eb8dbc0"
      },
      "source": [
        "print (train_generator.class_indices)"
      ],
      "execution_count": null,
      "outputs": [
        {
          "output_type": "stream",
          "name": "stdout",
          "text": [
            "{'Apple___Apple_scab': 0, 'Apple___Black_rot': 1, 'Apple___Cedar_apple_rust': 2, 'Apple___healthy': 3}\n"
          ]
        }
      ]
    },
    {
      "cell_type": "code",
      "metadata": {
        "colab": {
          "base_uri": "https://localhost:8080/"
        },
        "id": "zXn5k1iInbtH",
        "outputId": "f95c996c-6dae-408d-e1d0-7f2cf81a83e6"
      },
      "source": [
        "labels = '\\n'.join(sorted(train_generator.class_indices.keys()))\n",
        "with open('labels.txt', 'w') as f:\n",
        " f.write(labels)\n",
        "!cat labels.txt"
      ],
      "execution_count": null,
      "outputs": [
        {
          "output_type": "stream",
          "name": "stdout",
          "text": [
            "Apple___Apple_scab\n",
            "Apple___Black_rot\n",
            "Apple___Cedar_apple_rust\n",
            "Apple___healthy"
          ]
        }
      ]
    },
    {
      "cell_type": "code",
      "metadata": {
        "id": "AhABQvigndxX"
      },
      "source": [
        "import tensorflow_hub as hub"
      ],
      "execution_count": null,
      "outputs": []
    },
    {
      "cell_type": "code",
      "metadata": {
        "colab": {
          "base_uri": "https://localhost:8080/"
        },
        "id": "g9ClCyOMnoeG",
        "outputId": "49736523-7912-4271-db18-2877fae01aff"
      },
      "source": [
        "model = tf.keras.Sequential([\n",
        "  hub.KerasLayer('https://tfhub.dev/google/efficientnet/b4/feature-vector/1', \n",
        "  output_shape=[1280],\n",
        "  trainable=False),\n",
        "  tf.keras.layers.Dropout(0.4),\n",
        "  tf.keras.layers.Dense(train_generator.num_classes, activation='softmax')])\n",
        "model.build([None, 224, 224, 3])\n",
        "model.summary()"
      ],
      "execution_count": null,
      "outputs": [
        {
          "output_type": "stream",
          "name": "stdout",
          "text": [
            "Model: \"sequential_4\"\n",
            "_________________________________________________________________\n",
            " Layer (type)                Output Shape              Param #   \n",
            "=================================================================\n",
            " keras_layer_4 (KerasLayer)  (None, 1792)              17673816  \n",
            "                                                                 \n",
            " dropout_4 (Dropout)         (None, 1792)              0         \n",
            "                                                                 \n",
            " dense_4 (Dense)             (None, 4)                 7172      \n",
            "                                                                 \n",
            "=================================================================\n",
            "Total params: 17,680,988\n",
            "Trainable params: 7,172\n",
            "Non-trainable params: 17,673,816\n",
            "_________________________________________________________________\n"
          ]
        }
      ]
    },
    {
      "cell_type": "code",
      "metadata": {
        "id": "bi1AVGsvnqQG"
      },
      "source": [
        "optimizer = tf.keras.optimizers.Adam(learning_rate=1e-3)\n",
        "model.compile(\n",
        " optimizer=optimizer,\n",
        " loss='categorical_crossentropy',\n",
        " metrics=['acc'])"
      ],
      "execution_count": null,
      "outputs": []
    },
    {
      "cell_type": "code",
      "metadata": {
        "id": "XC4iBy_cn0dZ"
      },
      "source": [
        "import numpy as np"
      ],
      "execution_count": null,
      "outputs": []
    },
    {
      "cell_type": "code",
      "metadata": {
        "colab": {
          "base_uri": "https://localhost:8080/"
        },
        "id": "MO4SZZn7nsc2",
        "outputId": "da6aabab-d9c2-4441-ff2a-d1a233128d4a"
      },
      "source": [
        "steps_per_epoch = np.ceil(train_generator.samples/train_generator.batch_size)\n",
        "val_steps_per_epoch = np.ceil(valid_generator.samples/valid_generator.batch_size)\n",
        "hist = model.fit(train_generator, \n",
        "   epochs=10,\n",
        "   verbose=1,\n",
        "   steps_per_epoch=steps_per_epoch,\n",
        "   validation_data=valid_generator,\n",
        "   validation_steps=val_steps_per_epoch).history"
      ],
      "execution_count": null,
      "outputs": [
        {
          "output_type": "stream",
          "name": "stdout",
          "text": [
            "Epoch 1/10\n",
            "195/195 [==============================] - 1744s 9s/step - loss: 0.4363 - acc: 0.8766 - val_loss: 0.1856 - val_acc: 0.9646\n",
            "Epoch 2/10\n",
            "195/195 [==============================] - 76s 390ms/step - loss: 0.1562 - acc: 0.9614 - val_loss: 0.1198 - val_acc: 0.9717\n",
            "Epoch 3/10\n",
            "195/195 [==============================] - 76s 389ms/step - loss: 0.1145 - acc: 0.9717 - val_loss: 0.0919 - val_acc: 0.9762\n",
            "Epoch 4/10\n",
            "195/195 [==============================] - 76s 390ms/step - loss: 0.0890 - acc: 0.9768 - val_loss: 0.0735 - val_acc: 0.9833\n",
            "Epoch 5/10\n",
            "195/195 [==============================] - 76s 389ms/step - loss: 0.0732 - acc: 0.9828 - val_loss: 0.0643 - val_acc: 0.9833\n",
            "Epoch 6/10\n",
            "195/195 [==============================] - 76s 390ms/step - loss: 0.0630 - acc: 0.9852 - val_loss: 0.0573 - val_acc: 0.9852\n",
            "Epoch 7/10\n",
            "195/195 [==============================] - 76s 389ms/step - loss: 0.0598 - acc: 0.9844 - val_loss: 0.0529 - val_acc: 0.9852\n",
            "Epoch 8/10\n",
            "195/195 [==============================] - 76s 390ms/step - loss: 0.0562 - acc: 0.9841 - val_loss: 0.0498 - val_acc: 0.9865\n",
            "Epoch 9/10\n",
            "195/195 [==============================] - 76s 389ms/step - loss: 0.0482 - acc: 0.9875 - val_loss: 0.0458 - val_acc: 0.9852\n",
            "Epoch 10/10\n",
            "195/195 [==============================] - 76s 389ms/step - loss: 0.0454 - acc: 0.9876 - val_loss: 0.0439 - val_acc: 0.9891\n"
          ]
        }
      ]
    },
    {
      "cell_type": "code",
      "metadata": {
        "id": "TcT4NNjZnyC2",
        "colab": {
          "base_uri": "https://localhost:8080/"
        },
        "outputId": "6e7e8827-ef27-48b6-9489-fea9b5374c73"
      },
      "source": [
        "final_loss, final_accuracy = model.evaluate(valid_generator, steps = val_steps_per_epoch)\n",
        "print('Final loss: {:.2f}'.format(final_loss))\n",
        "print('Final accuracy: {:.2f}%'.format(final_accuracy * 100))"
      ],
      "execution_count": null,
      "outputs": [
        {
          "output_type": "stream",
          "name": "stdout",
          "text": [
            "49/49 [==============================] - 15s 311ms/step - loss: 0.0439 - acc: 0.9891\n",
            "Final loss: 0.04\n",
            "Final accuracy: 98.91%\n"
          ]
        }
      ]
    },
    {
      "cell_type": "code",
      "metadata": {
        "colab": {
          "base_uri": "https://localhost:8080/"
        },
        "id": "SaWn3Rm6n-iM",
        "outputId": "cb2b72d0-bc2e-4a1b-beb6-24229e1d61da"
      },
      "source": [
        "history = model.fit_generator(train_generator, \n",
        "                    epochs=10, \n",
        "                    validation_data=valid_generator)"
      ],
      "execution_count": null,
      "outputs": [
        {
          "output_type": "stream",
          "name": "stderr",
          "text": [
            "/usr/local/lib/python3.7/dist-packages/ipykernel_launcher.py:3: UserWarning: `Model.fit_generator` is deprecated and will be removed in a future version. Please use `Model.fit`, which supports generators.\n",
            "  This is separate from the ipykernel package so we can avoid doing imports until\n"
          ]
        },
        {
          "output_type": "stream",
          "name": "stdout",
          "text": [
            "Epoch 1/10\n",
            "195/195 [==============================] - 78s 397ms/step - loss: 0.0424 - acc: 0.9870 - val_loss: 0.0404 - val_acc: 0.9865\n",
            "Epoch 2/10\n",
            "195/195 [==============================] - 77s 395ms/step - loss: 0.0405 - acc: 0.9883 - val_loss: 0.0390 - val_acc: 0.9884\n",
            "Epoch 3/10\n",
            "195/195 [==============================] - 76s 391ms/step - loss: 0.0366 - acc: 0.9907 - val_loss: 0.0365 - val_acc: 0.9884\n",
            "Epoch 4/10\n",
            "195/195 [==============================] - 76s 392ms/step - loss: 0.0346 - acc: 0.9904 - val_loss: 0.0357 - val_acc: 0.9884\n",
            "Epoch 5/10\n",
            "195/195 [==============================] - 77s 392ms/step - loss: 0.0338 - acc: 0.9908 - val_loss: 0.0365 - val_acc: 0.9871\n",
            "Epoch 6/10\n",
            "195/195 [==============================] - 77s 395ms/step - loss: 0.0338 - acc: 0.9905 - val_loss: 0.0308 - val_acc: 0.9910\n",
            "Epoch 7/10\n",
            "195/195 [==============================] - 77s 395ms/step - loss: 0.0314 - acc: 0.9924 - val_loss: 0.0306 - val_acc: 0.9916\n",
            "Epoch 8/10\n",
            "195/195 [==============================] - 77s 393ms/step - loss: 0.0312 - acc: 0.9915 - val_loss: 0.0304 - val_acc: 0.9903\n",
            "Epoch 9/10\n",
            "195/195 [==============================] - 76s 392ms/step - loss: 0.0283 - acc: 0.9910 - val_loss: 0.0297 - val_acc: 0.9903\n",
            "Epoch 10/10\n",
            "195/195 [==============================] - 76s 392ms/step - loss: 0.0293 - acc: 0.9912 - val_loss: 0.0285 - val_acc: 0.9903\n"
          ]
        }
      ]
    },
    {
      "cell_type": "code",
      "metadata": {
        "id": "jz254gr0oAtt",
        "colab": {
          "base_uri": "https://localhost:8080/",
          "height": 513
        },
        "outputId": "0494e764-06c5-4f71-f1b2-b9b75e1405b9"
      },
      "source": [
        "acc = history.history['acc']\n",
        "val_acc = history.history['val_acc']\n",
        "\n",
        "loss = history.history['loss']\n",
        "val_loss = history.history['val_loss']\n",
        "\n",
        "plt.figure(figsize=(8, 8))\n",
        "plt.subplot(2, 1, 1)\n",
        "plt.plot(acc, label='Training Accuracy')\n",
        "plt.plot(val_acc, label='Validation Accuracy')\n",
        "plt.legend(loc='lower right')\n",
        "plt.ylabel('Accuracy')\n",
        "plt.ylim([min(plt.ylim()),1])\n",
        "plt.title('Training and Validation Accuracy')\n",
        "\n",
        "plt.subplot(2, 1, 2)\n",
        "plt.plot(loss, label='Training Loss')\n",
        "plt.plot(val_loss, label='Validation Loss')\n",
        "plt.legend(loc='upper right')\n",
        "plt.ylabel('Cross Entropy')\n",
        "plt.ylim([0,1.0])\n",
        "plt.title('Training and Validation Loss')\n",
        "plt.xlabel('epoch')\n",
        "plt.show()"
      ],
      "execution_count": null,
      "outputs": [
        {
          "output_type": "display_data",
          "data": {
            "image/png": "[encoded data removed]",
            "text/plain": [
              "<Figure size 576x576 with 2 Axes>"
            ]
          },
          "metadata": {
            "needs_background": "light"
          }
        }
      ]
    }
  ]
}